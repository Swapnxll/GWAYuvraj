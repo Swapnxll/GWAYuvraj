{
 "cells": [
  {
   "cell_type": "code",
   "execution_count": 1,
   "id": "improved-island",
   "metadata": {},
   "outputs": [],
   "source": [
    "import pandas as pd"
   ]
  },
  {
   "cell_type": "code",
   "execution_count": 2,
   "id": "understanding-testing",
   "metadata": {},
   "outputs": [],
   "source": [
    "df = pd.read_csv('processes_datasets_run_time_no_null_with_zero.csv')"
   ]
  },
  {
   "cell_type": "code",
   "execution_count": 3,
   "id": "variable-circular",
   "metadata": {},
   "outputs": [
    {
     "data": {
      "text/html": [
       "<div>\n",
       "<style scoped>\n",
       "    .dataframe tbody tr th:only-of-type {\n",
       "        vertical-align: middle;\n",
       "    }\n",
       "\n",
       "    .dataframe tbody tr th {\n",
       "        vertical-align: top;\n",
       "    }\n",
       "\n",
       "    .dataframe thead th {\n",
       "        text-align: right;\n",
       "    }\n",
       "</style>\n",
       "<table border=\"1\" class=\"dataframe\">\n",
       "  <thead>\n",
       "    <tr style=\"text-align: right;\">\n",
       "      <th></th>\n",
       "      <th>index</th>\n",
       "      <th>submit_time</th>\n",
       "      <th>wait_time</th>\n",
       "      <th>run_time</th>\n",
       "      <th>avg_cpu_time_used</th>\n",
       "      <th>used_mem</th>\n",
       "      <th>req_time</th>\n",
       "    </tr>\n",
       "  </thead>\n",
       "  <tbody>\n",
       "    <tr>\n",
       "      <th>0</th>\n",
       "      <td>0</td>\n",
       "      <td>1136070024</td>\n",
       "      <td>203761</td>\n",
       "      <td>138467</td>\n",
       "      <td>138371</td>\n",
       "      <td>98652</td>\n",
       "      <td>259200</td>\n",
       "    </tr>\n",
       "    <tr>\n",
       "      <th>1</th>\n",
       "      <td>1</td>\n",
       "      <td>1136070690</td>\n",
       "      <td>0</td>\n",
       "      <td>11</td>\n",
       "      <td>4</td>\n",
       "      <td>35848</td>\n",
       "      <td>259200</td>\n",
       "    </tr>\n",
       "    <tr>\n",
       "      <th>2</th>\n",
       "      <td>2</td>\n",
       "      <td>1136071207</td>\n",
       "      <td>117</td>\n",
       "      <td>201203</td>\n",
       "      <td>0</td>\n",
       "      <td>0</td>\n",
       "      <td>259200</td>\n",
       "    </tr>\n",
       "    <tr>\n",
       "      <th>3</th>\n",
       "      <td>3</td>\n",
       "      <td>1136071267</td>\n",
       "      <td>4406</td>\n",
       "      <td>196985</td>\n",
       "      <td>0</td>\n",
       "      <td>0</td>\n",
       "      <td>259200</td>\n",
       "    </tr>\n",
       "    <tr>\n",
       "      <th>4</th>\n",
       "      <td>4</td>\n",
       "      <td>1136071269</td>\n",
       "      <td>202516</td>\n",
       "      <td>19520</td>\n",
       "      <td>18731</td>\n",
       "      <td>522268</td>\n",
       "      <td>259200</td>\n",
       "    </tr>\n",
       "    <tr>\n",
       "      <th>...</th>\n",
       "      <td>...</td>\n",
       "      <td>...</td>\n",
       "      <td>...</td>\n",
       "      <td>...</td>\n",
       "      <td>...</td>\n",
       "      <td>...</td>\n",
       "      <td>...</td>\n",
       "    </tr>\n",
       "    <tr>\n",
       "      <th>347606</th>\n",
       "      <td>404170</td>\n",
       "      <td>1167602999</td>\n",
       "      <td>1</td>\n",
       "      <td>41</td>\n",
       "      <td>17</td>\n",
       "      <td>0</td>\n",
       "      <td>259200</td>\n",
       "    </tr>\n",
       "    <tr>\n",
       "      <th>347607</th>\n",
       "      <td>404171</td>\n",
       "      <td>1167603618</td>\n",
       "      <td>2</td>\n",
       "      <td>56</td>\n",
       "      <td>18</td>\n",
       "      <td>0</td>\n",
       "      <td>259200</td>\n",
       "    </tr>\n",
       "    <tr>\n",
       "      <th>347608</th>\n",
       "      <td>404172</td>\n",
       "      <td>1167603624</td>\n",
       "      <td>1</td>\n",
       "      <td>57</td>\n",
       "      <td>17</td>\n",
       "      <td>61084</td>\n",
       "      <td>259200</td>\n",
       "    </tr>\n",
       "    <tr>\n",
       "      <th>347609</th>\n",
       "      <td>404173</td>\n",
       "      <td>1167603637</td>\n",
       "      <td>1</td>\n",
       "      <td>45</td>\n",
       "      <td>17</td>\n",
       "      <td>0</td>\n",
       "      <td>259200</td>\n",
       "    </tr>\n",
       "    <tr>\n",
       "      <th>347610</th>\n",
       "      <td>404174</td>\n",
       "      <td>1167603747</td>\n",
       "      <td>1</td>\n",
       "      <td>43</td>\n",
       "      <td>17</td>\n",
       "      <td>0</td>\n",
       "      <td>259200</td>\n",
       "    </tr>\n",
       "  </tbody>\n",
       "</table>\n",
       "<p>347611 rows × 7 columns</p>\n",
       "</div>"
      ],
      "text/plain": [
       "         index  submit_time  wait_time  run_time  avg_cpu_time_used  used_mem  \\\n",
       "0            0   1136070024     203761    138467             138371     98652   \n",
       "1            1   1136070690          0        11                  4     35848   \n",
       "2            2   1136071207        117    201203                  0         0   \n",
       "3            3   1136071267       4406    196985                  0         0   \n",
       "4            4   1136071269     202516     19520              18731    522268   \n",
       "...        ...          ...        ...       ...                ...       ...   \n",
       "347606  404170   1167602999          1        41                 17         0   \n",
       "347607  404171   1167603618          2        56                 18         0   \n",
       "347608  404172   1167603624          1        57                 17     61084   \n",
       "347609  404173   1167603637          1        45                 17         0   \n",
       "347610  404174   1167603747          1        43                 17         0   \n",
       "\n",
       "        req_time  \n",
       "0         259200  \n",
       "1         259200  \n",
       "2         259200  \n",
       "3         259200  \n",
       "4         259200  \n",
       "...          ...  \n",
       "347606    259200  \n",
       "347607    259200  \n",
       "347608    259200  \n",
       "347609    259200  \n",
       "347610    259200  \n",
       "\n",
       "[347611 rows x 7 columns]"
      ]
     },
     "execution_count": 3,
     "metadata": {},
     "output_type": "execute_result"
    }
   ],
   "source": [
    "df"
   ]
  },
  {
   "cell_type": "code",
   "execution_count": 4,
   "id": "raising-delicious",
   "metadata": {
    "scrolled": true
   },
   "outputs": [
    {
     "data": {
      "text/html": [
       "<div>\n",
       "<style scoped>\n",
       "    .dataframe tbody tr th:only-of-type {\n",
       "        vertical-align: middle;\n",
       "    }\n",
       "\n",
       "    .dataframe tbody tr th {\n",
       "        vertical-align: top;\n",
       "    }\n",
       "\n",
       "    .dataframe thead th {\n",
       "        text-align: right;\n",
       "    }\n",
       "</style>\n",
       "<table border=\"1\" class=\"dataframe\">\n",
       "  <thead>\n",
       "    <tr style=\"text-align: right;\">\n",
       "      <th></th>\n",
       "      <th>index</th>\n",
       "      <th>submit_time</th>\n",
       "      <th>wait_time</th>\n",
       "      <th>run_time</th>\n",
       "      <th>avg_cpu_time_used</th>\n",
       "      <th>used_mem</th>\n",
       "      <th>req_time</th>\n",
       "    </tr>\n",
       "  </thead>\n",
       "  <tbody>\n",
       "    <tr>\n",
       "      <th>0</th>\n",
       "      <td>0</td>\n",
       "      <td>1136070024</td>\n",
       "      <td>203761</td>\n",
       "      <td>138467</td>\n",
       "      <td>138371</td>\n",
       "      <td>98652</td>\n",
       "      <td>259200</td>\n",
       "    </tr>\n",
       "    <tr>\n",
       "      <th>1</th>\n",
       "      <td>1</td>\n",
       "      <td>1136070690</td>\n",
       "      <td>0</td>\n",
       "      <td>11</td>\n",
       "      <td>4</td>\n",
       "      <td>35848</td>\n",
       "      <td>259200</td>\n",
       "    </tr>\n",
       "    <tr>\n",
       "      <th>2</th>\n",
       "      <td>2</td>\n",
       "      <td>1136071207</td>\n",
       "      <td>117</td>\n",
       "      <td>201203</td>\n",
       "      <td>0</td>\n",
       "      <td>0</td>\n",
       "      <td>259200</td>\n",
       "    </tr>\n",
       "    <tr>\n",
       "      <th>3</th>\n",
       "      <td>3</td>\n",
       "      <td>1136071267</td>\n",
       "      <td>4406</td>\n",
       "      <td>196985</td>\n",
       "      <td>0</td>\n",
       "      <td>0</td>\n",
       "      <td>259200</td>\n",
       "    </tr>\n",
       "    <tr>\n",
       "      <th>4</th>\n",
       "      <td>4</td>\n",
       "      <td>1136071269</td>\n",
       "      <td>202516</td>\n",
       "      <td>19520</td>\n",
       "      <td>18731</td>\n",
       "      <td>522268</td>\n",
       "      <td>259200</td>\n",
       "    </tr>\n",
       "    <tr>\n",
       "      <th>...</th>\n",
       "      <td>...</td>\n",
       "      <td>...</td>\n",
       "      <td>...</td>\n",
       "      <td>...</td>\n",
       "      <td>...</td>\n",
       "      <td>...</td>\n",
       "      <td>...</td>\n",
       "    </tr>\n",
       "    <tr>\n",
       "      <th>347606</th>\n",
       "      <td>404170</td>\n",
       "      <td>1167602999</td>\n",
       "      <td>1</td>\n",
       "      <td>41</td>\n",
       "      <td>17</td>\n",
       "      <td>0</td>\n",
       "      <td>259200</td>\n",
       "    </tr>\n",
       "    <tr>\n",
       "      <th>347607</th>\n",
       "      <td>404171</td>\n",
       "      <td>1167603618</td>\n",
       "      <td>2</td>\n",
       "      <td>56</td>\n",
       "      <td>18</td>\n",
       "      <td>0</td>\n",
       "      <td>259200</td>\n",
       "    </tr>\n",
       "    <tr>\n",
       "      <th>347608</th>\n",
       "      <td>404172</td>\n",
       "      <td>1167603624</td>\n",
       "      <td>1</td>\n",
       "      <td>57</td>\n",
       "      <td>17</td>\n",
       "      <td>61084</td>\n",
       "      <td>259200</td>\n",
       "    </tr>\n",
       "    <tr>\n",
       "      <th>347609</th>\n",
       "      <td>404173</td>\n",
       "      <td>1167603637</td>\n",
       "      <td>1</td>\n",
       "      <td>45</td>\n",
       "      <td>17</td>\n",
       "      <td>0</td>\n",
       "      <td>259200</td>\n",
       "    </tr>\n",
       "    <tr>\n",
       "      <th>347610</th>\n",
       "      <td>404174</td>\n",
       "      <td>1167603747</td>\n",
       "      <td>1</td>\n",
       "      <td>43</td>\n",
       "      <td>17</td>\n",
       "      <td>0</td>\n",
       "      <td>259200</td>\n",
       "    </tr>\n",
       "  </tbody>\n",
       "</table>\n",
       "<p>347611 rows × 7 columns</p>\n",
       "</div>"
      ],
      "text/plain": [
       "         index  submit_time  wait_time  run_time  avg_cpu_time_used  used_mem  \\\n",
       "0            0   1136070024     203761    138467             138371     98652   \n",
       "1            1   1136070690          0        11                  4     35848   \n",
       "2            2   1136071207        117    201203                  0         0   \n",
       "3            3   1136071267       4406    196985                  0         0   \n",
       "4            4   1136071269     202516     19520              18731    522268   \n",
       "...        ...          ...        ...       ...                ...       ...   \n",
       "347606  404170   1167602999          1        41                 17         0   \n",
       "347607  404171   1167603618          2        56                 18         0   \n",
       "347608  404172   1167603624          1        57                 17     61084   \n",
       "347609  404173   1167603637          1        45                 17         0   \n",
       "347610  404174   1167603747          1        43                 17         0   \n",
       "\n",
       "        req_time  \n",
       "0         259200  \n",
       "1         259200  \n",
       "2         259200  \n",
       "3         259200  \n",
       "4         259200  \n",
       "...          ...  \n",
       "347606    259200  \n",
       "347607    259200  \n",
       "347608    259200  \n",
       "347609    259200  \n",
       "347610    259200  \n",
       "\n",
       "[347611 rows x 7 columns]"
      ]
     },
     "execution_count": 4,
     "metadata": {},
     "output_type": "execute_result"
    }
   ],
   "source": [
    "df"
   ]
  },
  {
   "cell_type": "code",
   "execution_count": 5,
   "id": "lined-valuable",
   "metadata": {},
   "outputs": [],
   "source": [
    "df = df.drop(columns=['index'])"
   ]
  },
  {
   "cell_type": "code",
   "execution_count": 6,
   "id": "pursuant-characteristic",
   "metadata": {},
   "outputs": [
    {
     "data": {
      "text/html": [
       "<div>\n",
       "<style scoped>\n",
       "    .dataframe tbody tr th:only-of-type {\n",
       "        vertical-align: middle;\n",
       "    }\n",
       "\n",
       "    .dataframe tbody tr th {\n",
       "        vertical-align: top;\n",
       "    }\n",
       "\n",
       "    .dataframe thead th {\n",
       "        text-align: right;\n",
       "    }\n",
       "</style>\n",
       "<table border=\"1\" class=\"dataframe\">\n",
       "  <thead>\n",
       "    <tr style=\"text-align: right;\">\n",
       "      <th></th>\n",
       "      <th>submit_time</th>\n",
       "      <th>wait_time</th>\n",
       "      <th>run_time</th>\n",
       "      <th>avg_cpu_time_used</th>\n",
       "      <th>used_mem</th>\n",
       "      <th>req_time</th>\n",
       "    </tr>\n",
       "  </thead>\n",
       "  <tbody>\n",
       "    <tr>\n",
       "      <th>submit_time</th>\n",
       "      <td>1.000000</td>\n",
       "      <td>0.072037</td>\n",
       "      <td>0.119601</td>\n",
       "      <td>0.116112</td>\n",
       "      <td>0.169460</td>\n",
       "      <td>0.116609</td>\n",
       "    </tr>\n",
       "    <tr>\n",
       "      <th>wait_time</th>\n",
       "      <td>0.072037</td>\n",
       "      <td>1.000000</td>\n",
       "      <td>0.098306</td>\n",
       "      <td>0.111848</td>\n",
       "      <td>0.047424</td>\n",
       "      <td>0.018146</td>\n",
       "    </tr>\n",
       "    <tr>\n",
       "      <th>run_time</th>\n",
       "      <td>0.119601</td>\n",
       "      <td>0.098306</td>\n",
       "      <td>1.000000</td>\n",
       "      <td>0.856810</td>\n",
       "      <td>0.378118</td>\n",
       "      <td>0.161006</td>\n",
       "    </tr>\n",
       "    <tr>\n",
       "      <th>avg_cpu_time_used</th>\n",
       "      <td>0.116112</td>\n",
       "      <td>0.111848</td>\n",
       "      <td>0.856810</td>\n",
       "      <td>1.000000</td>\n",
       "      <td>0.406987</td>\n",
       "      <td>0.182029</td>\n",
       "    </tr>\n",
       "    <tr>\n",
       "      <th>used_mem</th>\n",
       "      <td>0.169460</td>\n",
       "      <td>0.047424</td>\n",
       "      <td>0.378118</td>\n",
       "      <td>0.406987</td>\n",
       "      <td>1.000000</td>\n",
       "      <td>-0.009208</td>\n",
       "    </tr>\n",
       "    <tr>\n",
       "      <th>req_time</th>\n",
       "      <td>0.116609</td>\n",
       "      <td>0.018146</td>\n",
       "      <td>0.161006</td>\n",
       "      <td>0.182029</td>\n",
       "      <td>-0.009208</td>\n",
       "      <td>1.000000</td>\n",
       "    </tr>\n",
       "  </tbody>\n",
       "</table>\n",
       "</div>"
      ],
      "text/plain": [
       "                   submit_time  wait_time  run_time  avg_cpu_time_used  \\\n",
       "submit_time           1.000000   0.072037  0.119601           0.116112   \n",
       "wait_time             0.072037   1.000000  0.098306           0.111848   \n",
       "run_time              0.119601   0.098306  1.000000           0.856810   \n",
       "avg_cpu_time_used     0.116112   0.111848  0.856810           1.000000   \n",
       "used_mem              0.169460   0.047424  0.378118           0.406987   \n",
       "req_time              0.116609   0.018146  0.161006           0.182029   \n",
       "\n",
       "                   used_mem  req_time  \n",
       "submit_time        0.169460  0.116609  \n",
       "wait_time          0.047424  0.018146  \n",
       "run_time           0.378118  0.161006  \n",
       "avg_cpu_time_used  0.406987  0.182029  \n",
       "used_mem           1.000000 -0.009208  \n",
       "req_time          -0.009208  1.000000  "
      ]
     },
     "execution_count": 6,
     "metadata": {},
     "output_type": "execute_result"
    }
   ],
   "source": [
    "df.corr()"
   ]
  },
  {
   "cell_type": "code",
   "execution_count": 7,
   "id": "ruled-greene",
   "metadata": {},
   "outputs": [],
   "source": [
    "from matplotlib import pyplot as plt"
   ]
  },
  {
   "cell_type": "code",
   "execution_count": 8,
   "id": "electric-endorsement",
   "metadata": {},
   "outputs": [],
   "source": [
    "from sklearn.preprocessing import MinMaxScaler"
   ]
  },
  {
   "cell_type": "code",
   "execution_count": 9,
   "id": "informed-trouble",
   "metadata": {},
   "outputs": [],
   "source": [
    "scaler = MinMaxScaler(feature_range=(0,1))"
   ]
  },
  {
   "cell_type": "code",
   "execution_count": 10,
   "id": "durable-genius",
   "metadata": {},
   "outputs": [],
   "source": [
    "import numpy as np"
   ]
  },
  {
   "cell_type": "code",
   "execution_count": 11,
   "id": "amateur-ethnic",
   "metadata": {},
   "outputs": [],
   "source": [
    "import tensorflow as tf\n",
    "from tensorflow import keras\n",
    "from tensorflow.keras import layers\n",
    "from tensorflow.keras.models import Sequential\n",
    "from tensorflow.keras.layers import SimpleRNN, Dense"
   ]
  },
  {
   "cell_type": "markdown",
   "id": "imported-grade",
   "metadata": {},
   "source": [
    "# Multivariate RNN"
   ]
  },
  {
   "cell_type": "markdown",
   "id": "oriental-indication",
   "metadata": {},
   "source": [
    "### Cleaning Data"
   ]
  },
  {
   "cell_type": "code",
   "execution_count": 12,
   "id": "legal-blair",
   "metadata": {},
   "outputs": [],
   "source": [
    "import random"
   ]
  },
  {
   "cell_type": "code",
   "execution_count": 13,
   "id": "subsequent-battle",
   "metadata": {},
   "outputs": [
    {
     "data": {
      "text/plain": [
       "189819"
      ]
     },
     "execution_count": 13,
     "metadata": {},
     "output_type": "execute_result"
    }
   ],
   "source": [
    "start = random.randint(0, 347610 - 12500)\n",
    "start"
   ]
  },
  {
   "cell_type": "code",
   "execution_count": 14,
   "id": "assisted-comparison",
   "metadata": {},
   "outputs": [],
   "source": [
    "df = df.iloc[start:start+12500, :]"
   ]
  },
  {
   "cell_type": "code",
   "execution_count": null,
   "id": "designing-harbor",
   "metadata": {},
   "outputs": [],
   "source": []
  },
  {
   "cell_type": "code",
   "execution_count": 15,
   "id": "handled-waterproof",
   "metadata": {},
   "outputs": [],
   "source": [
    "df = df.reset_index()"
   ]
  },
  {
   "cell_type": "code",
   "execution_count": 16,
   "id": "running-extension",
   "metadata": {},
   "outputs": [
    {
     "data": {
      "text/html": [
       "<div>\n",
       "<style scoped>\n",
       "    .dataframe tbody tr th:only-of-type {\n",
       "        vertical-align: middle;\n",
       "    }\n",
       "\n",
       "    .dataframe tbody tr th {\n",
       "        vertical-align: top;\n",
       "    }\n",
       "\n",
       "    .dataframe thead th {\n",
       "        text-align: right;\n",
       "    }\n",
       "</style>\n",
       "<table border=\"1\" class=\"dataframe\">\n",
       "  <thead>\n",
       "    <tr style=\"text-align: right;\">\n",
       "      <th></th>\n",
       "      <th>index</th>\n",
       "      <th>submit_time</th>\n",
       "      <th>wait_time</th>\n",
       "      <th>run_time</th>\n",
       "      <th>avg_cpu_time_used</th>\n",
       "      <th>used_mem</th>\n",
       "      <th>req_time</th>\n",
       "    </tr>\n",
       "  </thead>\n",
       "  <tbody>\n",
       "    <tr>\n",
       "      <th>0</th>\n",
       "      <td>189819</td>\n",
       "      <td>1152545826</td>\n",
       "      <td>171</td>\n",
       "      <td>625</td>\n",
       "      <td>4</td>\n",
       "      <td>59956</td>\n",
       "      <td>345600</td>\n",
       "    </tr>\n",
       "    <tr>\n",
       "      <th>1</th>\n",
       "      <td>189820</td>\n",
       "      <td>1152545827</td>\n",
       "      <td>173</td>\n",
       "      <td>628</td>\n",
       "      <td>4</td>\n",
       "      <td>60016</td>\n",
       "      <td>345600</td>\n",
       "    </tr>\n",
       "    <tr>\n",
       "      <th>2</th>\n",
       "      <td>189821</td>\n",
       "      <td>1152545867</td>\n",
       "      <td>2</td>\n",
       "      <td>768</td>\n",
       "      <td>583</td>\n",
       "      <td>412728</td>\n",
       "      <td>259200</td>\n",
       "    </tr>\n",
       "    <tr>\n",
       "      <th>3</th>\n",
       "      <td>189822</td>\n",
       "      <td>1152545903</td>\n",
       "      <td>113</td>\n",
       "      <td>624</td>\n",
       "      <td>4</td>\n",
       "      <td>59960</td>\n",
       "      <td>345600</td>\n",
       "    </tr>\n",
       "    <tr>\n",
       "      <th>4</th>\n",
       "      <td>189823</td>\n",
       "      <td>1152545948</td>\n",
       "      <td>122</td>\n",
       "      <td>625</td>\n",
       "      <td>4</td>\n",
       "      <td>59944</td>\n",
       "      <td>345600</td>\n",
       "    </tr>\n",
       "    <tr>\n",
       "      <th>...</th>\n",
       "      <td>...</td>\n",
       "      <td>...</td>\n",
       "      <td>...</td>\n",
       "      <td>...</td>\n",
       "      <td>...</td>\n",
       "      <td>...</td>\n",
       "      <td>...</td>\n",
       "    </tr>\n",
       "    <tr>\n",
       "      <th>12495</th>\n",
       "      <td>202314</td>\n",
       "      <td>1153674191</td>\n",
       "      <td>1</td>\n",
       "      <td>24595</td>\n",
       "      <td>14</td>\n",
       "      <td>86836</td>\n",
       "      <td>259200</td>\n",
       "    </tr>\n",
       "    <tr>\n",
       "      <th>12496</th>\n",
       "      <td>202315</td>\n",
       "      <td>1153674191</td>\n",
       "      <td>1</td>\n",
       "      <td>24954</td>\n",
       "      <td>14</td>\n",
       "      <td>86976</td>\n",
       "      <td>259200</td>\n",
       "    </tr>\n",
       "    <tr>\n",
       "      <th>12497</th>\n",
       "      <td>202316</td>\n",
       "      <td>1153674245</td>\n",
       "      <td>3</td>\n",
       "      <td>25121</td>\n",
       "      <td>13</td>\n",
       "      <td>86908</td>\n",
       "      <td>259200</td>\n",
       "    </tr>\n",
       "    <tr>\n",
       "      <th>12498</th>\n",
       "      <td>202317</td>\n",
       "      <td>1153674249</td>\n",
       "      <td>1</td>\n",
       "      <td>24766</td>\n",
       "      <td>17</td>\n",
       "      <td>86824</td>\n",
       "      <td>259200</td>\n",
       "    </tr>\n",
       "    <tr>\n",
       "      <th>12499</th>\n",
       "      <td>202318</td>\n",
       "      <td>1153674249</td>\n",
       "      <td>1</td>\n",
       "      <td>24767</td>\n",
       "      <td>15</td>\n",
       "      <td>93324</td>\n",
       "      <td>259200</td>\n",
       "    </tr>\n",
       "  </tbody>\n",
       "</table>\n",
       "<p>12500 rows × 7 columns</p>\n",
       "</div>"
      ],
      "text/plain": [
       "        index  submit_time  wait_time  run_time  avg_cpu_time_used  used_mem  \\\n",
       "0      189819   1152545826        171       625                  4     59956   \n",
       "1      189820   1152545827        173       628                  4     60016   \n",
       "2      189821   1152545867          2       768                583    412728   \n",
       "3      189822   1152545903        113       624                  4     59960   \n",
       "4      189823   1152545948        122       625                  4     59944   \n",
       "...       ...          ...        ...       ...                ...       ...   \n",
       "12495  202314   1153674191          1     24595                 14     86836   \n",
       "12496  202315   1153674191          1     24954                 14     86976   \n",
       "12497  202316   1153674245          3     25121                 13     86908   \n",
       "12498  202317   1153674249          1     24766                 17     86824   \n",
       "12499  202318   1153674249          1     24767                 15     93324   \n",
       "\n",
       "       req_time  \n",
       "0        345600  \n",
       "1        345600  \n",
       "2        259200  \n",
       "3        345600  \n",
       "4        345600  \n",
       "...         ...  \n",
       "12495    259200  \n",
       "12496    259200  \n",
       "12497    259200  \n",
       "12498    259200  \n",
       "12499    259200  \n",
       "\n",
       "[12500 rows x 7 columns]"
      ]
     },
     "execution_count": 16,
     "metadata": {},
     "output_type": "execute_result"
    }
   ],
   "source": [
    "df"
   ]
  },
  {
   "cell_type": "code",
   "execution_count": 17,
   "id": "wrong-hunger",
   "metadata": {},
   "outputs": [
    {
     "data": {
      "text/html": [
       "<div>\n",
       "<style scoped>\n",
       "    .dataframe tbody tr th:only-of-type {\n",
       "        vertical-align: middle;\n",
       "    }\n",
       "\n",
       "    .dataframe tbody tr th {\n",
       "        vertical-align: top;\n",
       "    }\n",
       "\n",
       "    .dataframe thead th {\n",
       "        text-align: right;\n",
       "    }\n",
       "</style>\n",
       "<table border=\"1\" class=\"dataframe\">\n",
       "  <thead>\n",
       "    <tr style=\"text-align: right;\">\n",
       "      <th></th>\n",
       "      <th>index</th>\n",
       "      <th>submit_time</th>\n",
       "      <th>wait_time</th>\n",
       "      <th>run_time</th>\n",
       "      <th>avg_cpu_time_used</th>\n",
       "      <th>used_mem</th>\n",
       "      <th>req_time</th>\n",
       "    </tr>\n",
       "  </thead>\n",
       "  <tbody>\n",
       "    <tr>\n",
       "      <th>index</th>\n",
       "      <td>1.000000</td>\n",
       "      <td>0.992608</td>\n",
       "      <td>-0.096258</td>\n",
       "      <td>0.007606</td>\n",
       "      <td>-0.007545</td>\n",
       "      <td>-0.044655</td>\n",
       "      <td>0.017849</td>\n",
       "    </tr>\n",
       "    <tr>\n",
       "      <th>submit_time</th>\n",
       "      <td>0.992608</td>\n",
       "      <td>1.000000</td>\n",
       "      <td>-0.099162</td>\n",
       "      <td>0.023176</td>\n",
       "      <td>0.010305</td>\n",
       "      <td>-0.025560</td>\n",
       "      <td>0.002520</td>\n",
       "    </tr>\n",
       "    <tr>\n",
       "      <th>wait_time</th>\n",
       "      <td>-0.096258</td>\n",
       "      <td>-0.099162</td>\n",
       "      <td>1.000000</td>\n",
       "      <td>0.166483</td>\n",
       "      <td>0.205728</td>\n",
       "      <td>0.275241</td>\n",
       "      <td>-0.004532</td>\n",
       "    </tr>\n",
       "    <tr>\n",
       "      <th>run_time</th>\n",
       "      <td>0.007606</td>\n",
       "      <td>0.023176</td>\n",
       "      <td>0.166483</td>\n",
       "      <td>1.000000</td>\n",
       "      <td>0.834707</td>\n",
       "      <td>0.516396</td>\n",
       "      <td>0.303049</td>\n",
       "    </tr>\n",
       "    <tr>\n",
       "      <th>avg_cpu_time_used</th>\n",
       "      <td>-0.007545</td>\n",
       "      <td>0.010305</td>\n",
       "      <td>0.205728</td>\n",
       "      <td>0.834707</td>\n",
       "      <td>1.000000</td>\n",
       "      <td>0.627159</td>\n",
       "      <td>0.326117</td>\n",
       "    </tr>\n",
       "    <tr>\n",
       "      <th>used_mem</th>\n",
       "      <td>-0.044655</td>\n",
       "      <td>-0.025560</td>\n",
       "      <td>0.275241</td>\n",
       "      <td>0.516396</td>\n",
       "      <td>0.627159</td>\n",
       "      <td>1.000000</td>\n",
       "      <td>0.061525</td>\n",
       "    </tr>\n",
       "    <tr>\n",
       "      <th>req_time</th>\n",
       "      <td>0.017849</td>\n",
       "      <td>0.002520</td>\n",
       "      <td>-0.004532</td>\n",
       "      <td>0.303049</td>\n",
       "      <td>0.326117</td>\n",
       "      <td>0.061525</td>\n",
       "      <td>1.000000</td>\n",
       "    </tr>\n",
       "  </tbody>\n",
       "</table>\n",
       "</div>"
      ],
      "text/plain": [
       "                      index  submit_time  wait_time  run_time  \\\n",
       "index              1.000000     0.992608  -0.096258  0.007606   \n",
       "submit_time        0.992608     1.000000  -0.099162  0.023176   \n",
       "wait_time         -0.096258    -0.099162   1.000000  0.166483   \n",
       "run_time           0.007606     0.023176   0.166483  1.000000   \n",
       "avg_cpu_time_used -0.007545     0.010305   0.205728  0.834707   \n",
       "used_mem          -0.044655    -0.025560   0.275241  0.516396   \n",
       "req_time           0.017849     0.002520  -0.004532  0.303049   \n",
       "\n",
       "                   avg_cpu_time_used  used_mem  req_time  \n",
       "index                      -0.007545 -0.044655  0.017849  \n",
       "submit_time                 0.010305 -0.025560  0.002520  \n",
       "wait_time                   0.205728  0.275241 -0.004532  \n",
       "run_time                    0.834707  0.516396  0.303049  \n",
       "avg_cpu_time_used           1.000000  0.627159  0.326117  \n",
       "used_mem                    0.627159  1.000000  0.061525  \n",
       "req_time                    0.326117  0.061525  1.000000  "
      ]
     },
     "execution_count": 17,
     "metadata": {},
     "output_type": "execute_result"
    }
   ],
   "source": [
    "df.corr()"
   ]
  },
  {
   "cell_type": "code",
   "execution_count": 18,
   "id": "retained-microphone",
   "metadata": {
    "scrolled": true
   },
   "outputs": [
    {
     "data": {
      "text/plain": [
       "<matplotlib.legend.Legend at 0x1c789f559d0>"
      ]
     },
     "execution_count": 18,
     "metadata": {},
     "output_type": "execute_result"
    },
    {
     "data": {
      "image/png": "[encoded data removed]",
      "text/plain": [
       "<Figure size 640x480 with 1 Axes>"
      ]
     },
     "metadata": {},
     "output_type": "display_data"
    }
   ],
   "source": [
    "plt.plot(df['run_time'], alpha = 0.25, label = \"run_time\")\n",
    "plt.plot(df['avg_cpu_time_used'], alpha = 0.25, label = \"avg_cpu_time_used\")\n",
    "plt.plot(df['used_mem'], alpha = 0.25, label = \"used_mem\")\n",
    "plt.plot(df['req_time'], alpha = 0.25, label = \"req_time\")\n",
    "plt.legend()"
   ]
  },
  {
   "cell_type": "code",
   "execution_count": 19,
   "id": "postal-collection",
   "metadata": {},
   "outputs": [],
   "source": [
    "for i, value in enumerate(df[\"avg_cpu_time_used\"]):\n",
    "    if value == -1:\n",
    "        df[\"avg_cpu_time_used\"][i] = df[\"avg_cpu_time_used\"][i-1]\n",
    "for i, value in enumerate(df[\"run_time\"]):\n",
    "    if value == -1:\n",
    "        df[\"run_time\"][i] = df[\"run_time\"][i-1]\n",
    "for i, value in enumerate(df[\"used_mem\"]):\n",
    "    if value == -1:\n",
    "        df[\"used_mem\"][i] = df[\"used_mem\"][i-1]\n",
    "for i, value in enumerate(df[\"req_time\"]):\n",
    "    if value == -1:\n",
    "        df[\"req_time\"][i] = df[\"req_time\"][i-1]"
   ]
  },
  {
   "cell_type": "code",
   "execution_count": 20,
   "id": "adjusted-violence",
   "metadata": {},
   "outputs": [],
   "source": [
    "run_time = df[\"run_time\"]\n",
    "avg_cpu_time_used = df[\"avg_cpu_time_used\"]\n",
    "used_mem = df[\"used_mem\"]\n",
    "req_time = df[\"req_time\"]\n",
    "\n",
    "\n",
    "run_time = scaler.fit_transform(run_time.values.reshape(-1, 1))\n",
    "avg_cpu_time_used = scaler.fit_transform(avg_cpu_time_used.values.reshape(-1, 1))\n",
    "used_mem = scaler.fit_transform(used_mem.values.reshape(-1, 1))\n",
    "req_time = scaler.fit_transform(req_time.values.reshape(-1, 1))"
   ]
  },
  {
   "cell_type": "code",
   "execution_count": 21,
   "id": "cubic-thumb",
   "metadata": {},
   "outputs": [],
   "source": [
    "df = {\n",
    "    \"run_time\" : run_time.reshape(-1),\n",
    "    \"avg_cpu_time_used\" : avg_cpu_time_used.reshape(-1),\n",
    "    \"used_mem\" : used_mem.reshape(-1),\n",
    "    \"req_time\" : req_time.reshape(-1),\n",
    "    \"pred_run\" : run_time.reshape(-1)\n",
    "}"
   ]
  },
  {
   "cell_type": "code",
   "execution_count": 22,
   "id": "committed-commonwealth",
   "metadata": {},
   "outputs": [],
   "source": [
    "df = pd.DataFrame(df)"
   ]
  },
  {
   "cell_type": "code",
   "execution_count": null,
   "id": "heard-october",
   "metadata": {},
   "outputs": [],
   "source": []
  },
  {
   "cell_type": "code",
   "execution_count": 23,
   "id": "neutral-seller",
   "metadata": {},
   "outputs": [
    {
     "data": {
      "text/html": [
       "<div>\n",
       "<style scoped>\n",
       "    .dataframe tbody tr th:only-of-type {\n",
       "        vertical-align: middle;\n",
       "    }\n",
       "\n",
       "    .dataframe tbody tr th {\n",
       "        vertical-align: top;\n",
       "    }\n",
       "\n",
       "    .dataframe thead th {\n",
       "        text-align: right;\n",
       "    }\n",
       "</style>\n",
       "<table border=\"1\" class=\"dataframe\">\n",
       "  <thead>\n",
       "    <tr style=\"text-align: right;\">\n",
       "      <th></th>\n",
       "      <th>run_time</th>\n",
       "      <th>avg_cpu_time_used</th>\n",
       "      <th>used_mem</th>\n",
       "      <th>req_time</th>\n",
       "      <th>pred_run</th>\n",
       "    </tr>\n",
       "  </thead>\n",
       "  <tbody>\n",
       "    <tr>\n",
       "      <th>0</th>\n",
       "      <td>0.001238</td>\n",
       "      <td>0.000023</td>\n",
       "      <td>0.024183</td>\n",
       "      <td>1.0</td>\n",
       "      <td>0.001238</td>\n",
       "    </tr>\n",
       "    <tr>\n",
       "      <th>1</th>\n",
       "      <td>0.001244</td>\n",
       "      <td>0.000023</td>\n",
       "      <td>0.024207</td>\n",
       "      <td>1.0</td>\n",
       "      <td>0.001244</td>\n",
       "    </tr>\n",
       "    <tr>\n",
       "      <th>2</th>\n",
       "      <td>0.001522</td>\n",
       "      <td>0.003371</td>\n",
       "      <td>0.166469</td>\n",
       "      <td>0.0</td>\n",
       "      <td>0.001522</td>\n",
       "    </tr>\n",
       "    <tr>\n",
       "      <th>3</th>\n",
       "      <td>0.001236</td>\n",
       "      <td>0.000023</td>\n",
       "      <td>0.024184</td>\n",
       "      <td>1.0</td>\n",
       "      <td>0.001236</td>\n",
       "    </tr>\n",
       "    <tr>\n",
       "      <th>4</th>\n",
       "      <td>0.001238</td>\n",
       "      <td>0.000023</td>\n",
       "      <td>0.024178</td>\n",
       "      <td>1.0</td>\n",
       "      <td>0.001238</td>\n",
       "    </tr>\n",
       "    <tr>\n",
       "      <th>...</th>\n",
       "      <td>...</td>\n",
       "      <td>...</td>\n",
       "      <td>...</td>\n",
       "      <td>...</td>\n",
       "      <td>...</td>\n",
       "    </tr>\n",
       "    <tr>\n",
       "      <th>12495</th>\n",
       "      <td>0.048732</td>\n",
       "      <td>0.000081</td>\n",
       "      <td>0.035024</td>\n",
       "      <td>0.0</td>\n",
       "      <td>0.048732</td>\n",
       "    </tr>\n",
       "    <tr>\n",
       "      <th>12496</th>\n",
       "      <td>0.049444</td>\n",
       "      <td>0.000081</td>\n",
       "      <td>0.035081</td>\n",
       "      <td>0.0</td>\n",
       "      <td>0.049444</td>\n",
       "    </tr>\n",
       "    <tr>\n",
       "      <th>12497</th>\n",
       "      <td>0.049774</td>\n",
       "      <td>0.000075</td>\n",
       "      <td>0.035053</td>\n",
       "      <td>0.0</td>\n",
       "      <td>0.049774</td>\n",
       "    </tr>\n",
       "    <tr>\n",
       "      <th>12498</th>\n",
       "      <td>0.049071</td>\n",
       "      <td>0.000098</td>\n",
       "      <td>0.035020</td>\n",
       "      <td>0.0</td>\n",
       "      <td>0.049071</td>\n",
       "    </tr>\n",
       "    <tr>\n",
       "      <th>12499</th>\n",
       "      <td>0.049073</td>\n",
       "      <td>0.000087</td>\n",
       "      <td>0.037641</td>\n",
       "      <td>0.0</td>\n",
       "      <td>0.049073</td>\n",
       "    </tr>\n",
       "  </tbody>\n",
       "</table>\n",
       "<p>12500 rows × 5 columns</p>\n",
       "</div>"
      ],
      "text/plain": [
       "       run_time  avg_cpu_time_used  used_mem  req_time  pred_run\n",
       "0      0.001238           0.000023  0.024183       1.0  0.001238\n",
       "1      0.001244           0.000023  0.024207       1.0  0.001244\n",
       "2      0.001522           0.003371  0.166469       0.0  0.001522\n",
       "3      0.001236           0.000023  0.024184       1.0  0.001236\n",
       "4      0.001238           0.000023  0.024178       1.0  0.001238\n",
       "...         ...                ...       ...       ...       ...\n",
       "12495  0.048732           0.000081  0.035024       0.0  0.048732\n",
       "12496  0.049444           0.000081  0.035081       0.0  0.049444\n",
       "12497  0.049774           0.000075  0.035053       0.0  0.049774\n",
       "12498  0.049071           0.000098  0.035020       0.0  0.049071\n",
       "12499  0.049073           0.000087  0.037641       0.0  0.049073\n",
       "\n",
       "[12500 rows x 5 columns]"
      ]
     },
     "execution_count": 23,
     "metadata": {},
     "output_type": "execute_result"
    }
   ],
   "source": [
    "df"
   ]
  },
  {
   "cell_type": "code",
   "execution_count": 24,
   "id": "surprising-mumbai",
   "metadata": {},
   "outputs": [
    {
     "name": "stdout",
     "output_type": "stream",
     "text": [
      "Testing data length is:  20 :  [    run_time  avg_cpu_time_used  used_mem  req_time\n",
      "0   0.001238           0.000023  0.024183       1.0\n",
      "1   0.001244           0.000023  0.024207       1.0\n",
      "2   0.001522           0.003371  0.166469       0.0\n",
      "3   0.001236           0.000023  0.024184       1.0\n",
      "4   0.001238           0.000023  0.024178       1.0\n",
      "5   0.001240           0.000023  0.024560       1.0\n",
      "6   0.002829           0.007038  0.059833       0.0\n",
      "7   0.001234           0.000023  0.024171       1.0\n",
      "8   0.001246           0.000023  0.024178       1.0\n",
      "9   0.001236           0.000023  0.024166       1.0\n",
      "10  0.342917           0.999514  0.129617       0.0\n",
      "11  0.001621           0.004077  0.168133       0.0\n",
      "12  0.002722           0.007367  0.111681       0.0\n",
      "13  0.001234           0.000023  0.024200       1.0\n",
      "14  0.001246           0.000023  0.024187       1.0\n",
      "15  0.000016           0.000017  0.000000       0.0\n",
      "16  0.001478           0.003655  0.167445       0.0\n",
      "17  0.002728           0.007009  0.075150       0.0\n",
      "18  0.000000           0.000000  0.000000       1.0\n",
      "19  0.000002           0.000000  0.000000       1.0]\n",
      "Training data length is:  1 :  [pred_run    0.00124\n",
      "Name: 20, dtype: float64]\n"
     ]
    }
   ],
   "source": [
    "samples = 20\n",
    "steps = 1\n",
    "X = []\n",
    "Y = []\n",
    "\n",
    "for i in range(df.shape[0] - samples):\n",
    "    X.append(df.iloc[i:i+samples, 0:4])\n",
    "    Y.append(df.iloc[i+samples, 4:])\n",
    "    \n",
    "print(\"Testing data length is: \", len(X[0:1][0]), ': ', X[0:1])\n",
    "print(\"Training data length is: \", len(Y[0:1]), ': ', Y[0:1])"
   ]
  },
  {
   "cell_type": "code",
   "execution_count": 25,
   "id": "viral-truck",
   "metadata": {},
   "outputs": [],
   "source": [
    "X = np.array(X)\n",
    "Y = np.array(Y)"
   ]
  },
  {
   "cell_type": "code",
   "execution_count": 26,
   "id": "prerequisite-omega",
   "metadata": {
    "scrolled": true
   },
   "outputs": [
    {
     "data": {
      "text/plain": [
       "(array([[[1.23836678e-03, 2.31310141e-05, 2.41825932e-02, 1.00000000e+00],\n",
       "         [1.24431094e-03, 2.31310141e-05, 2.42067935e-02, 1.00000000e+00],\n",
       "         [1.52170510e-03, 3.37134530e-03, 1.66469299e-01, 0.00000000e+00],\n",
       "         ...,\n",
       "         [2.72836970e-03, 7.00869726e-03, 7.51501228e-02, 0.00000000e+00],\n",
       "         [0.00000000e+00, 0.00000000e+00, 0.00000000e+00, 1.00000000e+00],\n",
       "         [1.98138685e-06, 0.00000000e+00, 0.00000000e+00, 1.00000000e+00]],\n",
       " \n",
       "        [[1.24431094e-03, 2.31310141e-05, 2.42067935e-02, 1.00000000e+00],\n",
       "         [1.52170510e-03, 3.37134530e-03, 1.66469299e-01, 0.00000000e+00],\n",
       "         [1.23638540e-03, 2.31310141e-05, 2.41842065e-02, 1.00000000e+00],\n",
       "         ...,\n",
       "         [0.00000000e+00, 0.00000000e+00, 0.00000000e+00, 1.00000000e+00],\n",
       "         [1.98138685e-06, 0.00000000e+00, 0.00000000e+00, 1.00000000e+00],\n",
       "         [1.24034817e-03, 2.31310141e-05, 2.85628547e-02, 1.00000000e+00]],\n",
       " \n",
       "        [[1.52170510e-03, 3.37134530e-03, 1.66469299e-01, 0.00000000e+00],\n",
       "         [1.23638540e-03, 2.31310141e-05, 2.41842065e-02, 1.00000000e+00],\n",
       "         [1.23836678e-03, 2.31310141e-05, 2.41777531e-02, 1.00000000e+00],\n",
       "         ...,\n",
       "         [1.98138685e-06, 0.00000000e+00, 0.00000000e+00, 1.00000000e+00],\n",
       "         [1.24034817e-03, 2.31310141e-05, 2.85628547e-02, 1.00000000e+00],\n",
       "         [1.24034817e-03, 2.31310141e-05, 2.47198407e-02, 1.00000000e+00]],\n",
       " \n",
       "        ...,\n",
       " \n",
       "        [[9.90693426e-05, 1.04089563e-04, 2.05719024e-02, 1.00000000e+00],\n",
       "         [9.11437952e-05, 8.09585492e-05, 1.95603282e-02, 1.00000000e+00],\n",
       "         [9.31251820e-05, 8.09585492e-05, 2.07445315e-02, 1.00000000e+00],\n",
       "         ...,\n",
       "         [4.91383939e-02, 7.51757957e-05, 3.50130521e-02, 0.00000000e+00],\n",
       "         [4.87322096e-02, 8.09585492e-05, 3.50243455e-02, 0.00000000e+00],\n",
       "         [4.94435275e-02, 8.09585492e-05, 3.50808130e-02, 0.00000000e+00]],\n",
       " \n",
       "        [[9.11437952e-05, 8.09585492e-05, 1.95603282e-02, 1.00000000e+00],\n",
       "         [9.31251820e-05, 8.09585492e-05, 2.07445315e-02, 1.00000000e+00],\n",
       "         [8.71810215e-05, 8.09585492e-05, 0.00000000e+00, 1.00000000e+00],\n",
       "         ...,\n",
       "         [4.87322096e-02, 8.09585492e-05, 3.50243455e-02, 0.00000000e+00],\n",
       "         [4.94435275e-02, 8.09585492e-05, 3.50808130e-02, 0.00000000e+00],\n",
       "         [4.97744191e-02, 7.51757957e-05, 3.50533860e-02, 0.00000000e+00]],\n",
       " \n",
       "        [[9.31251820e-05, 8.09585492e-05, 2.07445315e-02, 1.00000000e+00],\n",
       "         [8.71810215e-05, 8.09585492e-05, 0.00000000e+00, 1.00000000e+00],\n",
       "         [1.07607139e-01, 3.03253377e-01, 2.47243581e-01, 1.00000000e+00],\n",
       "         ...,\n",
       "         [4.94435275e-02, 8.09585492e-05, 3.50808130e-02, 0.00000000e+00],\n",
       "         [4.97744191e-02, 7.51757957e-05, 3.50533860e-02, 0.00000000e+00],\n",
       "         [4.90710268e-02, 9.83068098e-05, 3.50195055e-02, 0.00000000e+00]]]),\n",
       " (12480, 20, 4))"
      ]
     },
     "execution_count": 26,
     "metadata": {},
     "output_type": "execute_result"
    }
   ],
   "source": [
    "X, X.shape"
   ]
  },
  {
   "cell_type": "code",
   "execution_count": 27,
   "id": "valuable-theory",
   "metadata": {},
   "outputs": [
    {
     "name": "stdout",
     "output_type": "stream",
     "text": [
      "Threshold is 9984\n"
     ]
    }
   ],
   "source": [
    "threshold = round(0.8 * X.shape[0])\n",
    "print('Threshold is', threshold)"
   ]
  },
  {
   "cell_type": "code",
   "execution_count": 28,
   "id": "grand-transmission",
   "metadata": {},
   "outputs": [],
   "source": [
    "trainX, trainY = X[:threshold], Y[:threshold]\n",
    "testX, testY = X[threshold:], Y[threshold:]"
   ]
  },
  {
   "cell_type": "code",
   "execution_count": 29,
   "id": "industrial-order",
   "metadata": {
    "scrolled": false
   },
   "outputs": [
    {
     "data": {
      "text/plain": [
       "((9984, 20, 4), (9984, 1))"
      ]
     },
     "execution_count": 29,
     "metadata": {},
     "output_type": "execute_result"
    }
   ],
   "source": [
    "trainX.shape, trainY.shape"
   ]
  },
  {
   "cell_type": "code",
   "execution_count": 30,
   "id": "technical-politics",
   "metadata": {},
   "outputs": [],
   "source": [
    "def custom_loss(y_true, y_pred):\n",
    "            \n",
    "    return (tf.keras.losses.mean_squared_error(y_true, y_pred) + 1* tf.keras.losses.mean_absolute_error(y_true, y_pred))/2"
   ]
  },
  {
   "cell_type": "code",
   "execution_count": null,
   "id": "delayed-nursery",
   "metadata": {},
   "outputs": [],
   "source": []
  },
  {
   "cell_type": "code",
   "execution_count": null,
   "id": "mental-plymouth",
   "metadata": {},
   "outputs": [],
   "source": []
  },
  {
   "cell_type": "code",
   "execution_count": 31,
   "id": "magnetic-kitchen",
   "metadata": {},
   "outputs": [],
   "source": [
    "def make_model():\n",
    "    model = keras.Sequential()\n",
    "    model.add(layers.LSTM(50,\n",
    "                      use_bias=True,\n",
    "#                          activation = 'relu',\n",
    "                      input_shape=(trainX.shape[1], trainX.shape[2]),\n",
    "                      return_sequences = True\n",
    "                      )) \n",
    "    model.add(layers.LSTM(50,\n",
    "                          use_bias=True,\n",
    "                         activation = 'relu',\n",
    "                           return_sequences = True))\n",
    "    model.add(layers.LSTM(50,\n",
    "                          use_bias=True,\n",
    "                         activation = 'relu'))\n",
    "#                            return_sequences = True))\n",
    "#     model.add(layers.GRU(20,\n",
    "#                           activation = 'relu',\n",
    "#                        use_bias=True))\n",
    "#    model.add(layers.Dropout(rate = 0.1))\n",
    "    model.add(layers.Dense(1))\n",
    "    model.compile(loss='mean_absolute_error', optimizer='adam')\n",
    "#     model.compile(loss=custom_loss, optimizer='adam')\n",
    "    \n",
    "    return model"
   ]
  },
  {
   "cell_type": "code",
   "execution_count": 32,
   "id": "welsh-saskatchewan",
   "metadata": {},
   "outputs": [
    {
     "name": "stderr",
     "output_type": "stream",
     "text": [
      "c:\\python\\python391\\lib\\site-packages\\keras\\src\\layers\\rnn\\rnn.py:205: UserWarning: Do not pass an `input_shape`/`input_dim` argument to a layer. When using Sequential models, prefer using an `Input(shape)` object as the first layer in the model instead.\n",
      "  super().__init__(**kwargs)\n"
     ]
    }
   ],
   "source": [
    "model = make_model()"
   ]
  },
  {
   "cell_type": "code",
   "execution_count": 33,
   "id": "reduced-process",
   "metadata": {},
   "outputs": [
    {
     "data": {
      "text/html": [
       "<pre style=\"white-space:pre;overflow-x:auto;line-height:normal;font-family:Menlo,'DejaVu Sans Mono',consolas,'Courier New',monospace\"><span style=\"font-weight: bold\">Model: \"sequential\"</span>\n",
       "</pre>\n"
      ],
      "text/plain": [
       "\u001b[1mModel: \"sequential\"\u001b[0m\n"
      ]
     },
     "metadata": {},
     "output_type": "display_data"
    },
    {
     "data": {
      "text/html": [
       "<pre style=\"white-space:pre;overflow-x:auto;line-height:normal;font-family:Menlo,'DejaVu Sans Mono',consolas,'Courier New',monospace\">┏━━━━━━━━━━━━━━━━━━━━━━━━━━━━━━━━━━━━┳━━━━━━━━━━━━━━━━━━━━━━━━━━━━━━━┳━━━━━━━━━━━━━┓\n",
       "┃<span style=\"font-weight: bold\"> Layer (type)                       </span>┃<span style=\"font-weight: bold\"> Output Shape                  </span>┃<span style=\"font-weight: bold\">     Param # </span>┃\n",
       "┡━━━━━━━━━━━━━━━━━━━━━━━━━━━━━━━━━━━━╇━━━━━━━━━━━━━━━━━━━━━━━━━━━━━━━╇━━━━━━━━━━━━━┩\n",
       "│ lstm (<span style=\"color: #0087ff; text-decoration-color: #0087ff\">LSTM</span>)                        │ (<span style=\"color: #00d7ff; text-decoration-color: #00d7ff\">None</span>, <span style=\"color: #00af00; text-decoration-color: #00af00\">20</span>, <span style=\"color: #00af00; text-decoration-color: #00af00\">50</span>)                │      <span style=\"color: #00af00; text-decoration-color: #00af00\">11,000</span> │\n",
       "├────────────────────────────────────┼───────────────────────────────┼─────────────┤\n",
       "│ lstm_1 (<span style=\"color: #0087ff; text-decoration-color: #0087ff\">LSTM</span>)                      │ (<span style=\"color: #00d7ff; text-decoration-color: #00d7ff\">None</span>, <span style=\"color: #00af00; text-decoration-color: #00af00\">20</span>, <span style=\"color: #00af00; text-decoration-color: #00af00\">50</span>)                │      <span style=\"color: #00af00; text-decoration-color: #00af00\">20,200</span> │\n",
       "├────────────────────────────────────┼───────────────────────────────┼─────────────┤\n",
       "│ lstm_2 (<span style=\"color: #0087ff; text-decoration-color: #0087ff\">LSTM</span>)                      │ (<span style=\"color: #00d7ff; text-decoration-color: #00d7ff\">None</span>, <span style=\"color: #00af00; text-decoration-color: #00af00\">50</span>)                    │      <span style=\"color: #00af00; text-decoration-color: #00af00\">20,200</span> │\n",
       "├────────────────────────────────────┼───────────────────────────────┼─────────────┤\n",
       "│ dense (<span style=\"color: #0087ff; text-decoration-color: #0087ff\">Dense</span>)                      │ (<span style=\"color: #00d7ff; text-decoration-color: #00d7ff\">None</span>, <span style=\"color: #00af00; text-decoration-color: #00af00\">1</span>)                     │          <span style=\"color: #00af00; text-decoration-color: #00af00\">51</span> │\n",
       "└────────────────────────────────────┴───────────────────────────────┴─────────────┘\n",
       "</pre>\n"
      ],
      "text/plain": [
       "┏━━━━━━━━━━━━━━━━━━━━━━━━━━━━━━━━━━━━┳━━━━━━━━━━━━━━━━━━━━━━━━━━━━━━━┳━━━━━━━━━━━━━┓\n",
       "┃\u001b[1m \u001b[0m\u001b[1mLayer (type)                      \u001b[0m\u001b[1m \u001b[0m┃\u001b[1m \u001b[0m\u001b[1mOutput Shape                 \u001b[0m\u001b[1m \u001b[0m┃\u001b[1m \u001b[0m\u001b[1m    Param #\u001b[0m\u001b[1m \u001b[0m┃\n",
       "┡━━━━━━━━━━━━━━━━━━━━━━━━━━━━━━━━━━━━╇━━━━━━━━━━━━━━━━━━━━━━━━━━━━━━━╇━━━━━━━━━━━━━┩\n",
       "│ lstm (\u001b[38;5;33mLSTM\u001b[0m)                        │ (\u001b[38;5;45mNone\u001b[0m, \u001b[38;5;34m20\u001b[0m, \u001b[38;5;34m50\u001b[0m)                │      \u001b[38;5;34m11,000\u001b[0m │\n",
       "├────────────────────────────────────┼───────────────────────────────┼─────────────┤\n",
       "│ lstm_1 (\u001b[38;5;33mLSTM\u001b[0m)                      │ (\u001b[38;5;45mNone\u001b[0m, \u001b[38;5;34m20\u001b[0m, \u001b[38;5;34m50\u001b[0m)                │      \u001b[38;5;34m20,200\u001b[0m │\n",
       "├────────────────────────────────────┼───────────────────────────────┼─────────────┤\n",
       "│ lstm_2 (\u001b[38;5;33mLSTM\u001b[0m)                      │ (\u001b[38;5;45mNone\u001b[0m, \u001b[38;5;34m50\u001b[0m)                    │      \u001b[38;5;34m20,200\u001b[0m │\n",
       "├────────────────────────────────────┼───────────────────────────────┼─────────────┤\n",
       "│ dense (\u001b[38;5;33mDense\u001b[0m)                      │ (\u001b[38;5;45mNone\u001b[0m, \u001b[38;5;34m1\u001b[0m)                     │          \u001b[38;5;34m51\u001b[0m │\n",
       "└────────────────────────────────────┴───────────────────────────────┴─────────────┘\n"
      ]
     },
     "metadata": {},
     "output_type": "display_data"
    },
    {
     "data": {
      "text/html": [
       "<pre style=\"white-space:pre;overflow-x:auto;line-height:normal;font-family:Menlo,'DejaVu Sans Mono',consolas,'Courier New',monospace\"><span style=\"font-weight: bold\"> Total params: </span><span style=\"color: #00af00; text-decoration-color: #00af00\">51,451</span> (200.98 KB)\n",
       "</pre>\n"
      ],
      "text/plain": [
       "\u001b[1m Total params: \u001b[0m\u001b[38;5;34m51,451\u001b[0m (200.98 KB)\n"
      ]
     },
     "metadata": {},
     "output_type": "display_data"
    },
    {
     "data": {
      "text/html": [
       "<pre style=\"white-space:pre;overflow-x:auto;line-height:normal;font-family:Menlo,'DejaVu Sans Mono',consolas,'Courier New',monospace\"><span style=\"font-weight: bold\"> Trainable params: </span><span style=\"color: #00af00; text-decoration-color: #00af00\">51,451</span> (200.98 KB)\n",
       "</pre>\n"
      ],
      "text/plain": [
       "\u001b[1m Trainable params: \u001b[0m\u001b[38;5;34m51,451\u001b[0m (200.98 KB)\n"
      ]
     },
     "metadata": {},
     "output_type": "display_data"
    },
    {
     "data": {
      "text/html": [
       "<pre style=\"white-space:pre;overflow-x:auto;line-height:normal;font-family:Menlo,'DejaVu Sans Mono',consolas,'Courier New',monospace\"><span style=\"font-weight: bold\"> Non-trainable params: </span><span style=\"color: #00af00; text-decoration-color: #00af00\">0</span> (0.00 B)\n",
       "</pre>\n"
      ],
      "text/plain": [
       "\u001b[1m Non-trainable params: \u001b[0m\u001b[38;5;34m0\u001b[0m (0.00 B)\n"
      ]
     },
     "metadata": {},
     "output_type": "display_data"
    }
   ],
   "source": [
    "model.summary()"
   ]
  },
  {
   "cell_type": "code",
   "execution_count": 53,
   "id": "cooperative-environment",
   "metadata": {},
   "outputs": [
    {
     "name": "stdout",
     "output_type": "stream",
     "text": [
      "Epoch 1/20\n",
      "\u001b[1m36/36\u001b[0m \u001b[32m━━━━━━━━━━━━━━━━━━━━\u001b[0m\u001b[37m\u001b[0m \u001b[1m2s\u001b[0m 46ms/step - loss: 0.0280 - val_loss: 8.0561e-04\n",
      "Epoch 2/20\n",
      "\u001b[1m36/36\u001b[0m \u001b[32m━━━━━━━━━━━━━━━━━━━━\u001b[0m\u001b[37m\u001b[0m \u001b[1m2s\u001b[0m 44ms/step - loss: 0.0283 - val_loss: 6.6674e-04\n",
      "Epoch 3/20\n",
      "\u001b[1m36/36\u001b[0m \u001b[32m━━━━━━━━━━━━━━━━━━━━\u001b[0m\u001b[37m\u001b[0m \u001b[1m2s\u001b[0m 44ms/step - loss: 0.0281 - val_loss: 7.7946e-04\n",
      "Epoch 4/20\n",
      "\u001b[1m36/36\u001b[0m \u001b[32m━━━━━━━━━━━━━━━━━━━━\u001b[0m\u001b[37m\u001b[0m \u001b[1m2s\u001b[0m 44ms/step - loss: 0.0276 - val_loss: 8.2780e-04\n",
      "Epoch 5/20\n",
      "\u001b[1m36/36\u001b[0m \u001b[32m━━━━━━━━━━━━━━━━━━━━\u001b[0m\u001b[37m\u001b[0m \u001b[1m2s\u001b[0m 43ms/step - loss: 0.0269 - val_loss: 7.9401e-04\n",
      "Epoch 6/20\n",
      "\u001b[1m36/36\u001b[0m \u001b[32m━━━━━━━━━━━━━━━━━━━━\u001b[0m\u001b[37m\u001b[0m \u001b[1m2s\u001b[0m 44ms/step - loss: 0.0270 - val_loss: 0.0014\n",
      "Epoch 7/20\n",
      "\u001b[1m36/36\u001b[0m \u001b[32m━━━━━━━━━━━━━━━━━━━━\u001b[0m\u001b[37m\u001b[0m \u001b[1m2s\u001b[0m 43ms/step - loss: 0.0271 - val_loss: 4.6518e-04\n",
      "Epoch 8/20\n",
      "\u001b[1m36/36\u001b[0m \u001b[32m━━━━━━━━━━━━━━━━━━━━\u001b[0m\u001b[37m\u001b[0m \u001b[1m2s\u001b[0m 43ms/step - loss: 0.0268 - val_loss: 7.2656e-04\n",
      "Epoch 9/20\n",
      "\u001b[1m36/36\u001b[0m \u001b[32m━━━━━━━━━━━━━━━━━━━━\u001b[0m\u001b[37m\u001b[0m \u001b[1m2s\u001b[0m 44ms/step - loss: 0.0266 - val_loss: 5.6131e-04\n",
      "Epoch 10/20\n",
      "\u001b[1m36/36\u001b[0m \u001b[32m━━━━━━━━━━━━━━━━━━━━\u001b[0m\u001b[37m\u001b[0m \u001b[1m2s\u001b[0m 43ms/step - loss: 0.0266 - val_loss: 6.0691e-04\n",
      "Epoch 11/20\n",
      "\u001b[1m36/36\u001b[0m \u001b[32m━━━━━━━━━━━━━━━━━━━━\u001b[0m\u001b[37m\u001b[0m \u001b[1m2s\u001b[0m 44ms/step - loss: 0.0269 - val_loss: 8.0633e-04\n",
      "Epoch 12/20\n",
      "\u001b[1m36/36\u001b[0m \u001b[32m━━━━━━━━━━━━━━━━━━━━\u001b[0m\u001b[37m\u001b[0m \u001b[1m2s\u001b[0m 44ms/step - loss: 0.0264 - val_loss: 5.5174e-04\n",
      "Epoch 13/20\n",
      "\u001b[1m36/36\u001b[0m \u001b[32m━━━━━━━━━━━━━━━━━━━━\u001b[0m\u001b[37m\u001b[0m \u001b[1m2s\u001b[0m 44ms/step - loss: 0.0268 - val_loss: 3.4455e-04\n",
      "Epoch 14/20\n",
      "\u001b[1m36/36\u001b[0m \u001b[32m━━━━━━━━━━━━━━━━━━━━\u001b[0m\u001b[37m\u001b[0m \u001b[1m2s\u001b[0m 44ms/step - loss: 0.0263 - val_loss: 3.9156e-04\n",
      "Epoch 15/20\n",
      "\u001b[1m36/36\u001b[0m \u001b[32m━━━━━━━━━━━━━━━━━━━━\u001b[0m\u001b[37m\u001b[0m \u001b[1m2s\u001b[0m 43ms/step - loss: 0.0260 - val_loss: 8.0391e-04\n",
      "Epoch 16/20\n",
      "\u001b[1m36/36\u001b[0m \u001b[32m━━━━━━━━━━━━━━━━━━━━\u001b[0m\u001b[37m\u001b[0m \u001b[1m2s\u001b[0m 44ms/step - loss: 0.0261 - val_loss: 0.0011\n",
      "Epoch 17/20\n",
      "\u001b[1m36/36\u001b[0m \u001b[32m━━━━━━━━━━━━━━━━━━━━\u001b[0m\u001b[37m\u001b[0m \u001b[1m2s\u001b[0m 43ms/step - loss: 0.0263 - val_loss: 0.0015\n",
      "Epoch 18/20\n",
      "\u001b[1m36/36\u001b[0m \u001b[32m━━━━━━━━━━━━━━━━━━━━\u001b[0m\u001b[37m\u001b[0m \u001b[1m2s\u001b[0m 45ms/step - loss: 0.0259 - val_loss: 0.0012\n",
      "Epoch 19/20\n",
      "\u001b[1m36/36\u001b[0m \u001b[32m━━━━━━━━━━━━━━━━━━━━\u001b[0m\u001b[37m\u001b[0m \u001b[1m2s\u001b[0m 43ms/step - loss: 0.0261 - val_loss: 0.0017\n",
      "Epoch 20/20\n",
      "\u001b[1m36/36\u001b[0m \u001b[32m━━━━━━━━━━━━━━━━━━━━\u001b[0m\u001b[37m\u001b[0m \u001b[1m2s\u001b[0m 44ms/step - loss: 0.0267 - val_loss: 5.4152e-04\n"
     ]
    }
   ],
   "source": [
    "history = model.fit(X[:threshold],\n",
    "                    Y[:threshold],\n",
    "                    shuffle=False,\n",
    "                    epochs=20,\n",
    "                    batch_size=256,\n",
    "                    validation_split=0.1 ,\n",
    "                    verbose=1)"
   ]
  },
  {
   "cell_type": "code",
   "execution_count": 46,
   "id": "interim-patrol",
   "metadata": {
    "scrolled": false
   },
   "outputs": [
    {
     "data": {
      "text/plain": [
       "<matplotlib.legend.Legend at 0x1c78c940550>"
      ]
     },
     "execution_count": 46,
     "metadata": {},
     "output_type": "execute_result"
    },
    {
     "data": {
      "image/png": "[encoded data removed]",
      "text/plain": [
       "<Figure size 640x480 with 1 Axes>"
      ]
     },
     "metadata": {},
     "output_type": "display_data"
    }
   ],
   "source": [
    "# tr_loss >> val_loss : underfitting\n",
    "# tr_loss << val_loss : overfitting\n",
    "\n",
    "plt.plot(history.history[\"loss\"], label = \"Training Loss\")\n",
    "plt.plot(history.history[\"val_loss\"], label = \"Validation Loss\")\n",
    "plt.legend()"
   ]
  },
  {
   "cell_type": "code",
   "execution_count": 47,
   "id": "expressed-difference",
   "metadata": {
    "scrolled": true
   },
   "outputs": [
    {
     "name": "stdout",
     "output_type": "stream",
     "text": [
      "\u001b[1m78/78\u001b[0m \u001b[32m━━━━━━━━━━━━━━━━━━━━\u001b[0m\u001b[37m\u001b[0m \u001b[1m0s\u001b[0m 5ms/step\n"
     ]
    },
    {
     "data": {
      "text/plain": [
       "<matplotlib.legend.Legend at 0x1c78c96fe50>"
      ]
     },
     "execution_count": 47,
     "metadata": {},
     "output_type": "execute_result"
    },
    {
     "data": {
      "image/png": "[encoded data removed]",
      "text/plain": [
       "<Figure size 640x480 with 1 Axes>"
      ]
     },
     "metadata": {},
     "output_type": "display_data"
    }
   ],
   "source": [
    "y_pred = model.predict(testX)\n",
    "plt.plot(testY, alpha = 0.25, label = \"True Value\")\n",
    "plt.plot(y_pred, alpha = 0.25, label = \"Forecasted Value\")\n",
    "plt.legend()"
   ]
  },
  {
   "cell_type": "code",
   "execution_count": 48,
   "id": "committed-graduate",
   "metadata": {},
   "outputs": [],
   "source": [
    "#y_pred = scaler.fit_transform(y_pred)"
   ]
  },
  {
   "cell_type": "code",
   "execution_count": 49,
   "id": "intellectual-treatment",
   "metadata": {},
   "outputs": [],
   "source": [
    "#testY = scaler.fit_transform(testY)"
   ]
  },
  {
   "cell_type": "code",
   "execution_count": null,
   "id": "offshore-principle",
   "metadata": {},
   "outputs": [],
   "source": []
  },
  {
   "cell_type": "code",
   "execution_count": 50,
   "id": "progressive-ratio",
   "metadata": {},
   "outputs": [],
   "source": [
    "rae = 0\n",
    "for i in range(len(y_pred)):\n",
    "    abs_val = abs(y_pred[i][0] - testY[i][0])\n",
    "    rae += abs_val\n",
    "\n",
    "rae = rae / len(y_pred)"
   ]
  },
  {
   "cell_type": "code",
   "execution_count": 51,
   "id": "rough-constitutional",
   "metadata": {},
   "outputs": [
    {
     "data": {
      "text/plain": [
       "0.047222042602854564"
      ]
     },
     "execution_count": 51,
     "metadata": {},
     "output_type": "execute_result"
    }
   ],
   "source": [
    "rae"
   ]
  },
  {
   "cell_type": "code",
   "execution_count": 52,
   "id": "reported-potato",
   "metadata": {},
   "outputs": [
    {
     "data": {
      "text/plain": [
       "4.722204260285457"
      ]
     },
     "execution_count": 52,
     "metadata": {},
     "output_type": "execute_result"
    }
   ],
   "source": [
    "rae * 100"
   ]
  },
  {
   "cell_type": "code",
   "execution_count": 42,
   "id": "urban-thumb",
   "metadata": {},
   "outputs": [],
   "source": [
    "final_df = pd.DataFrame({\n",
    "    \"testY\" : testY.reshape(-1),\n",
    "    \"y_pred\" : y_pred.reshape(-1)\n",
    "})"
   ]
  },
  {
   "cell_type": "code",
   "execution_count": 43,
   "id": "tribal-problem",
   "metadata": {},
   "outputs": [
    {
     "data": {
      "text/html": [
       "<div>\n",
       "<style scoped>\n",
       "    .dataframe tbody tr th:only-of-type {\n",
       "        vertical-align: middle;\n",
       "    }\n",
       "\n",
       "    .dataframe tbody tr th {\n",
       "        vertical-align: top;\n",
       "    }\n",
       "\n",
       "    .dataframe thead th {\n",
       "        text-align: right;\n",
       "    }\n",
       "</style>\n",
       "<table border=\"1\" class=\"dataframe\">\n",
       "  <thead>\n",
       "    <tr style=\"text-align: right;\">\n",
       "      <th></th>\n",
       "      <th>testY</th>\n",
       "      <th>y_pred</th>\n",
       "    </tr>\n",
       "  </thead>\n",
       "  <tbody>\n",
       "    <tr>\n",
       "      <th>testY</th>\n",
       "      <td>1.00000</td>\n",
       "      <td>0.31144</td>\n",
       "    </tr>\n",
       "    <tr>\n",
       "      <th>y_pred</th>\n",
       "      <td>0.31144</td>\n",
       "      <td>1.00000</td>\n",
       "    </tr>\n",
       "  </tbody>\n",
       "</table>\n",
       "</div>"
      ],
      "text/plain": [
       "          testY   y_pred\n",
       "testY   1.00000  0.31144\n",
       "y_pred  0.31144  1.00000"
      ]
     },
     "execution_count": 43,
     "metadata": {},
     "output_type": "execute_result"
    }
   ],
   "source": [
    "final_df.corr()"
   ]
  },
  {
   "cell_type": "code",
   "execution_count": 44,
   "id": "utility-vaccine",
   "metadata": {},
   "outputs": [],
   "source": [
    "#model.save('mae_3.0540_gru_model1.keras')"
   ]
  },
  {
   "cell_type": "code",
   "execution_count": null,
   "id": "destroyed-powder",
   "metadata": {},
   "outputs": [],
   "source": []
  },
  {
   "cell_type": "code",
   "execution_count": 54,
   "id": "incomplete-beverage",
   "metadata": {},
   "outputs": [],
   "source": [
    "df_ = pd.read_csv(\"processes_datasets.csv\")"
   ]
  },
  {
   "cell_type": "code",
   "execution_count": 56,
   "id": "precious-reputation",
   "metadata": {},
   "outputs": [
    {
     "data": {
      "text/plain": [
       "Index(['JobID', 'SubmitTime', 'WaitTime', 'RunTime ', 'NProcs',\n",
       "       'AverageCPUTimeUsed', 'Used Memory', 'ReqNProcs', 'ReqTime: ',\n",
       "       'ReqMemory', 'Status', 'UserID', 'GroupID', 'ExecutableID', 'QueueID',\n",
       "       'PartitionID', 'OrigSiteID', 'LastRunSiteID', 'JobStructure',\n",
       "       'JobStructureParams', 'UsedNetwork', 'UsedLocalDiskSpace',\n",
       "       'UsedResources', 'ReqPlatform', 'ReqNetwork', 'ReqLocalDiskSpace',\n",
       "       'ReqResources', 'VOID', 'ProjectID'],\n",
       "      dtype='object')"
      ]
     },
     "execution_count": 56,
     "metadata": {},
     "output_type": "execute_result"
    }
   ],
   "source": [
    "df_.columns"
   ]
  },
  {
   "cell_type": "code",
   "execution_count": 57,
   "id": "fuzzy-economy",
   "metadata": {},
   "outputs": [
    {
     "data": {
      "text/plain": [
       "1    336085\n",
       "5     63129\n",
       "0      4962\n",
       "Name: Status, dtype: int64"
      ]
     },
     "execution_count": 57,
     "metadata": {},
     "output_type": "execute_result"
    }
   ],
   "source": [
    "df_[\"Status\"].value_counts()"
   ]
  },
  {
   "cell_type": "code",
   "execution_count": null,
   "id": "arabic-afghanistan",
   "metadata": {},
   "outputs": [],
   "source": []
  }
 ],
 "metadata": {
  "kernelspec": {
   "display_name": "Python 3 (ipykernel)",
   "language": "python",
   "name": "python3"
  },
  "language_info": {
   "codemirror_mode": {
    "name": "ipython",
    "version": 3
   },
   "file_extension": ".py",
   "mimetype": "text/x-python",
   "name": "python",
   "nbconvert_exporter": "python",
   "pygments_lexer": "ipython3",
   "version": "3.9.1"
  }
 },
 "nbformat": 4,
 "nbformat_minor": 5
}
